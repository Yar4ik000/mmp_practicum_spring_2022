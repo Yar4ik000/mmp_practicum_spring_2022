{
 "cells": [
  {
   "cell_type": "markdown",
   "metadata": {},
   "source": [
    "### Для чего нужен PyTorch?"
   ]
  },
  {
   "cell_type": "markdown",
   "metadata": {},
   "source": [
    "1. автоматическое дифференцирование\n",
    "2. работа с датасетами\n",
    "3. построение моделей\n",
    "4. обучение моделей"
   ]
  },
  {
   "cell_type": "code",
   "execution_count": 52,
   "metadata": {},
   "outputs": [],
   "source": [
    "import torch"
   ]
  },
  {
   "cell_type": "markdown",
   "metadata": {},
   "source": [
    "### Данные"
   ]
  },
  {
   "cell_type": "code",
   "execution_count": null,
   "metadata": {},
   "outputs": [],
   "source": [
    "from torch.utils.data import Dataset, DataLoader"
   ]
  },
  {
   "cell_type": "code",
   "execution_count": null,
   "metadata": {},
   "outputs": [],
   "source": [
    "class PhotosDataset(Dataset):\n",
    "    \n",
    "    def __init__(self, images_dir, target_dir, transforms=None):\n",
    "        self.img_paths = []\n",
    "        self.target_paths = []\n",
    "        \"\"\"\n",
    "        заполняем пути к файлам\n",
    "        \"\"\"\n",
    "        self.transforms = transforms\n",
    "        \n",
    "    def __len__(self):\n",
    "        return len(self.img_paths)\n",
    "                   \n",
    "    def __getitem__(self, idx):\n",
    "        \"\"\"\n",
    "        1. load data object (image, text, graphs, ...)\n",
    "        2. transform data (self.transforms(...))\n",
    "        \"\"\"\n",
    "        img_name = self.img_paths[idx]\n",
    "        target_name = self.target_paths[idx]\n",
    "        sample = (\n",
    "            np.asarray(Image.open(img_name)),\n",
    "            np.asarray(Image.open(target_name)),\n",
    "        )\n",
    "        sample = self.transforms(sample)\n",
    "        \n",
    "        return sample"
   ]
  },
  {
   "cell_type": "code",
   "execution_count": null,
   "metadata": {},
   "outputs": [],
   "source": [
    "train_dataset = PhotosDataset(\n",
    "    images_dir=DATA_PATH + 'train/',\n",
    "    target_dir=DATA_PATH + 'train_mask/',\n",
    "    transforms= img_tr\n",
    ")\n",
    "test_dataset = PhotosDataset(\n",
    "    images_dir=DATA_PATH + 'test/',\n",
    "    target_dir=DATA_PATH + 'test_mask/',\n",
    "    transforms= test_tr\n",
    ")"
   ]
  },
  {
   "cell_type": "code",
   "execution_count": null,
   "metadata": {},
   "outputs": [],
   "source": [
    "train_data_loader = DataLoader(train_dataset, batch_size=8, shuffle=True)\n",
    "test_data_loader = DataLoader(test_dataset, batch_size=8)"
   ]
  },
  {
   "cell_type": "code",
   "execution_count": null,
   "metadata": {},
   "outputs": [],
   "source": [
    "optimizer = optim.Adam(model.parameters(), lr=1e-3, weight_decay)"
   ]
  },
  {
   "cell_type": "code",
   "execution_count": null,
   "metadata": {},
   "outputs": [],
   "source": [
    "model.train()\n",
    "from data, target in train_data_loader:\n",
    "    optimizer.zero_grad()\n",
    "    output = model(data)\n",
    "    l = loss(output, target)\n",
    "    l.backward()\n",
    "    optimizer.step()\n",
    "    "
   ]
  },
  {
   "cell_type": "code",
   "execution_count": null,
   "metadata": {},
   "outputs": [],
   "source": [
    "out = []\n",
    "model.eval()\n",
    "with torch.no_grad():\n",
    "    from data, target in test_data_loader:\n",
    "        output = model(data)\n",
    "        l = loss(output, target)\n",
    "        out += [ l ]\n",
    "    \n",
    "print(sum(out) / len(out))"
   ]
  },
  {
   "cell_type": "code",
   "execution_count": null,
   "metadata": {},
   "outputs": [],
   "source": []
  },
  {
   "cell_type": "code",
   "execution_count": null,
   "metadata": {},
   "outputs": [],
   "source": []
  },
  {
   "cell_type": "markdown",
   "metadata": {},
   "source": [
    "### Модель"
   ]
  },
  {
   "cell_type": "code",
   "execution_count": 42,
   "metadata": {},
   "outputs": [],
   "source": [
    "import torch.nn as nn"
   ]
  },
  {
   "cell_type": "code",
   "execution_count": 43,
   "metadata": {},
   "outputs": [],
   "source": [
    "input_sz = 15\n",
    "output_sz = 2"
   ]
  },
  {
   "cell_type": "code",
   "execution_count": 46,
   "metadata": {},
   "outputs": [
    {
     "data": {
      "text/plain": [
       "Sequential(\n",
       "  (0): Linear(in_features=15, out_features=10, bias=True)\n",
       "  (1): ReLU()\n",
       "  (2): Linear(in_features=10, out_features=2, bias=True)\n",
       "  (3): Sigmoid()\n",
       ")"
      ]
     },
     "execution_count": 46,
     "metadata": {},
     "output_type": "execute_result"
    }
   ],
   "source": [
    "model_1 = nn.Sequential(\n",
    "    nn.Linear(input_sz, 10),\n",
    "    nn.Dropout(0.1),\n",
    "    nn.ReLU(),\n",
    "    nn.Linear(10, output_sz),\n",
    "    nn.Sigmoid()\n",
    ")\n",
    "model_1"
   ]
  },
  {
   "cell_type": "code",
   "execution_count": null,
   "metadata": {},
   "outputs": [],
   "source": [
    "out = model_1.forward(data)\n",
    "l = loss(out, target)\n",
    "l.backward()"
   ]
  },
  {
   "cell_type": "code",
   "execution_count": null,
   "metadata": {},
   "outputs": [],
   "source": []
  },
  {
   "cell_type": "code",
   "execution_count": 47,
   "metadata": {},
   "outputs": [
    {
     "data": {
      "text/plain": [
       "Model(\n",
       "  (layers): Sequential(\n",
       "    (0): Linear(in_features=15, out_features=10, bias=True)\n",
       "    (1): ReLU()\n",
       "    (2): Linear(in_features=10, out_features=2, bias=True)\n",
       "    (3): Sigmoid()\n",
       "  )\n",
       ")"
      ]
     },
     "execution_count": 47,
     "metadata": {},
     "output_type": "execute_result"
    }
   ],
   "source": [
    "class Model(nn.Module):\n",
    "    def __init__(self, input_sz, output_sz):\n",
    "        super(Model, self).__init__()\n",
    "        self.layers = nn.Sequential(\n",
    "            nn.Linear(input_sz, 10),\n",
    "            nn.ReLU(),\n",
    "            nn.Linear(10, output_sz),\n",
    "            nn.Sigmoid()\n",
    "        )\n",
    "    \n",
    "    def forward(self, x):\n",
    "        return self.layers(x)\n",
    "    \n",
    "\n",
    "model_2 = Model(input_sz, output_sz)\n",
    "model_2"
   ]
  },
  {
   "cell_type": "code",
   "execution_count": 49,
   "metadata": {},
   "outputs": [
    {
     "data": {
      "text/plain": [
       "Model(\n",
       "  (layers): ReLU()\n",
       "  (sigm): Sigmoid()\n",
       ")"
      ]
     },
     "execution_count": 49,
     "metadata": {},
     "output_type": "execute_result"
    }
   ],
   "source": [
    "class Model(nn.Module):\n",
    "    def __init__(self, input_sz, output_sz):\n",
    "        super(Model, self).__init__()\n",
    "        self.W_1 = nn.Parameter(torch.zeros((input_sz, 10)).uniform_(0.0,1.0))\n",
    "        self.b_1 = nn.Parameter(torch.zeros((10)).uniform_(0.0,1.0))\n",
    "        self.layers = nn.ReLU()\n",
    "        self.W_2 = nn.Parameter(torch.zeros((10, output_sz)).uniform_(0.0,1.0))\n",
    "        self.b_2 = nn.Parameter(torch.zeros((output_sz)).uniform_(0.0,1.0))\n",
    "        self.sigm = nn.Sigmoid()\n",
    "        self.show = True\n",
    "    \n",
    "    def forward(self, x):\n",
    "        x_1 = x @ self.W_1 + self.b_1\n",
    "        x_2 = self.layers(x_1)\n",
    "        x_3 = torch.matmul(x_2, self.W_2) + self.b_2\n",
    "        return self.sigm(x_3)\n",
    "\n",
    "model_3 = Model(input_sz, output_sz)\n",
    "model_3"
   ]
  },
  {
   "cell_type": "code",
   "execution_count": null,
   "metadata": {},
   "outputs": [],
   "source": [
    "torch.save(model.state_dict(), \"model.pth\")"
   ]
  },
  {
   "cell_type": "code",
   "execution_count": null,
   "metadata": {},
   "outputs": [],
   "source": [
    "model = Model(input_sz, output_sz)\n",
    "model.load_state_dict(torch.load(\"model.pth\"))"
   ]
  },
  {
   "cell_type": "code",
   "execution_count": null,
   "metadata": {},
   "outputs": [],
   "source": []
  },
  {
   "cell_type": "code",
   "execution_count": null,
   "metadata": {},
   "outputs": [],
   "source": []
  }
 ],
 "metadata": {
  "kernelspec": {
   "display_name": "Python 3 (ipykernel)",
   "language": "python",
   "name": "python3"
  },
  "language_info": {
   "codemirror_mode": {
    "name": "ipython",
    "version": 3
   },
   "file_extension": ".py",
   "mimetype": "text/x-python",
   "name": "python",
   "nbconvert_exporter": "python",
   "pygments_lexer": "ipython3",
   "version": "3.9.7"
  }
 },
 "nbformat": 4,
 "nbformat_minor": 2
}
